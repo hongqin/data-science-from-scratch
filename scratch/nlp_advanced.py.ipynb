{
  "cells": [
    {
      "cell_type": "code",
      "metadata": {},
      "source": [
        "from scratch.deep_learning import Optimizer, Layer\n",
        "\n",
        "class EmbeddingOptimizer(Optimizer):\n",
        "    \"\"\"\n",
        "    Optimized for the case where there are\n",
        "    only embedding layers with single id updates.\n",
        "    \"\"\"\n",
        "    def __init__(self, learning_rate: float) -> None:\n",
        "        self.lr = learning_rate\n",
        "\n",
        "    def step(self, layer: Layer) -> None:\n",
        "        for param, grad in zip(layer.params(), layer.grads()):\n",
        "            # Find the first (only) row with nonzero values.\n",
        "            for idx, row in enumerate(grad):\n",
        "                if row[0] != 0:\n",
        "                    break\n",
        "\n",
        "            # Then update just that row.\n",
        "            for j in range(len(row)):\n",
        "                param[idx][j] -= grad[idx][j] * self.lr\n"
      ],
      "outputs": [],
      "execution_count": null
    }
  ],
  "metadata": {
    "anaconda-cloud": {},
    "kernelspec": {
      "display_name": "Python 3",
      "language": "python",
      "name": "python3"
    },
    "language_info": {
      "codemirror_mode": {
        "name": "ipython",
        "version": 3
      },
      "file_extension": ".py",
      "mimetype": "text/x-python",
      "name": "python",
      "nbconvert_exporter": "python",
      "pygments_lexer": "ipython3",
      "version": "3.6.1"
    }
  },
  "nbformat": 4,
  "nbformat_minor": 4
}